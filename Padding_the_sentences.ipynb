{
  "nbformat": 4,
  "nbformat_minor": 0,
  "metadata": {
    "colab": {
      "name": "Padding the sentences.ipynb",
      "provenance": [],
      "collapsed_sections": [],
      "include_colab_link": true
    },
    "kernelspec": {
      "name": "python3",
      "display_name": "Python 3"
    }
  },
  "cells": [
    {
      "cell_type": "markdown",
      "metadata": {
        "id": "view-in-github",
        "colab_type": "text"
      },
      "source": [
        "<a href=\"https://colab.research.google.com/github/chaurasiauttkarsh/Natural-Language-Processing/blob/master/Padding_the_sentences.ipynb\" target=\"_parent\"><img src=\"https://colab.research.google.com/assets/colab-badge.svg\" alt=\"Open In Colab\"/></a>"
      ]
    },
    {
      "cell_type": "markdown",
      "metadata": {
        "colab_type": "text",
        "id": "rX8mhOLljYeM"
      },
      "source": [
        "Importing the library\n"
      ]
    },
    {
      "cell_type": "code",
      "metadata": {
        "id": "zaCMcjMQifQc",
        "colab_type": "code",
        "outputId": "d50ccd25-ec4f-4ca1-960e-5b4b9cbdaa82",
        "colab": {
          "base_uri": "https://localhost:8080/",
          "height": 63
        }
      },
      "source": [
        "from tensorflow.keras.preprocessing.text import Tokenizer"
      ],
      "execution_count": 1,
      "outputs": [
        {
          "output_type": "display_data",
          "data": {
            "text/html": [
              "<p style=\"color: red;\">\n",
              "The default version of TensorFlow in Colab will soon switch to TensorFlow 2.x.<br>\n",
              "We recommend you <a href=\"https://www.tensorflow.org/guide/migrate\" target=\"_blank\">upgrade</a> now \n",
              "or ensure your notebook will continue to use TensorFlow 1.x via the <code>%tensorflow_version 1.x</code> magic:\n",
              "<a href=\"https://colab.research.google.com/notebooks/tensorflow_version.ipynb\" target=\"_blank\">more info</a>.</p>\n"
            ],
            "text/plain": [
              "<IPython.core.display.HTML object>"
            ]
          },
          "metadata": {
            "tags": []
          }
        }
      ]
    },
    {
      "cell_type": "markdown",
      "metadata": {
        "id": "SeWfeKLlGsM9",
        "colab_type": "text"
      },
      "source": [
        "Sentences"
      ]
    },
    {
      "cell_type": "code",
      "metadata": {
        "id": "O22rGs11G1gs",
        "colab_type": "code",
        "colab": {}
      },
      "source": [
        "Sentences = ['I love my dog',\n",
        "             'They love my dog',\n",
        "             'i, love the cat?',\n",
        "             'Do you think that my dog is amazing']"
      ],
      "execution_count": 0,
      "outputs": []
    },
    {
      "cell_type": "markdown",
      "metadata": {
        "id": "IZ0HK-xPHJTh",
        "colab_type": "text"
      },
      "source": [
        "Tokenizing the Sentences"
      ]
    },
    {
      "cell_type": "code",
      "metadata": {
        "id": "qSgGQQboHFwA",
        "colab_type": "code",
        "outputId": "08b56467-1437-4d4c-8d2e-273dd8b4072e",
        "colab": {
          "base_uri": "https://localhost:8080/",
          "height": 34
        }
      },
      "source": [
        "tokenizer = Tokenizer(num_words=100, oov_token=\"<OOV>\")\n",
        "tokenizer.fit_on_texts(Sentences)\n",
        "word_index = tokenizer.word_index\n",
        "print(word_index)"
      ],
      "execution_count": 3,
      "outputs": [
        {
          "output_type": "stream",
          "text": [
            "{'<OOV>': 1, 'love': 2, 'my': 3, 'dog': 4, 'i': 5, 'they': 6, 'the': 7, 'cat': 8, 'do': 9, 'you': 10, 'think': 11, 'that': 12, 'is': 13, 'amazing': 14}\n"
          ],
          "name": "stdout"
        }
      ]
    },
    {
      "cell_type": "markdown",
      "metadata": {
        "id": "5gr21s11bm4t",
        "colab_type": "text"
      },
      "source": [
        "Tokenizing the sentences"
      ]
    },
    {
      "cell_type": "code",
      "metadata": {
        "id": "OI0cGaiDceL8",
        "colab_type": "code",
        "colab": {
          "base_uri": "https://localhost:8080/",
          "height": 34
        },
        "outputId": "fa02fbb1-0ac0-40f4-cf9c-898b80802190"
      },
      "source": [
        "sequences = tokenizer.texts_to_sequences(Sentences)\n",
        "print(sequences)"
      ],
      "execution_count": 4,
      "outputs": [
        {
          "output_type": "stream",
          "text": [
            "[[5, 2, 3, 4], [6, 2, 3, 4], [5, 2, 7, 8], [9, 10, 11, 12, 3, 4, 13, 14]]\n"
          ],
          "name": "stdout"
        }
      ]
    },
    {
      "cell_type": "markdown",
      "metadata": {
        "id": "j70ZOSIZcizt",
        "colab_type": "text"
      },
      "source": [
        "Padding"
      ]
    },
    {
      "cell_type": "code",
      "metadata": {
        "id": "NVxbitGgckNS",
        "colab_type": "code",
        "colab": {
          "base_uri": "https://localhost:8080/",
          "height": 85
        },
        "outputId": "d25fd774-a941-4daa-f945-730e542a2ff9"
      },
      "source": [
        "from tensorflow.keras.preprocessing.sequence import pad_sequences\n",
        "padded = pad_sequences(sequences, maxlen=5, padding='post', truncating='post')\n",
        "print(padded)"
      ],
      "execution_count": 7,
      "outputs": [
        {
          "output_type": "stream",
          "text": [
            "[[ 5  2  3  4  0]\n",
            " [ 6  2  3  4  0]\n",
            " [ 5  2  7  8  0]\n",
            " [ 9 10 11 12  3]]\n"
          ],
          "name": "stdout"
        }
      ]
    },
    {
      "cell_type": "markdown",
      "metadata": {
        "id": "sxX_JFxDdUNm",
        "colab_type": "text"
      },
      "source": [
        "Testing"
      ]
    },
    {
      "cell_type": "code",
      "metadata": {
        "id": "6737go_OdTja",
        "colab_type": "code",
        "colab": {
          "base_uri": "https://localhost:8080/",
          "height": 68
        },
        "outputId": "7bc80b86-085f-4ea6-e2fa-61944e8c91d2"
      },
      "source": [
        "test_data = [\n",
        "    'i really love my dog',\n",
        "    'my dog loves my manatee'\n",
        "]\n",
        "\n",
        "test_seq = tokenizer.texts_to_sequences(test_data)\n",
        "print(test_seq)\n",
        "\n",
        "padded = pad_sequences(test_seq, maxlen=10)\n",
        "print(padded)"
      ],
      "execution_count": 8,
      "outputs": [
        {
          "output_type": "stream",
          "text": [
            "[[5, 1, 2, 3, 4], [3, 4, 1, 3, 1]]\n",
            "[[0 0 0 0 0 5 1 2 3 4]\n",
            " [0 0 0 0 0 3 4 1 3 1]]\n"
          ],
          "name": "stdout"
        }
      ]
    }
  ]
}