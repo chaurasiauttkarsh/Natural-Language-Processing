{
  "nbformat": 4,
  "nbformat_minor": 0,
  "metadata": {
    "colab": {
      "name": "Headline Sarcasm.ipynb",
      "provenance": [],
      "authorship_tag": "ABX9TyM3KcFpjyhJLzfKvqUdtDgW",
      "include_colab_link": true
    },
    "kernelspec": {
      "name": "python3",
      "display_name": "Python 3"
    }
  },
  "cells": [
    {
      "cell_type": "markdown",
      "metadata": {
        "id": "view-in-github",
        "colab_type": "text"
      },
      "source": [
        "<a href=\"https://colab.research.google.com/github/chaurasiauttkarsh/Natural-Language-Processing/blob/master/Headline_Sarcasm.ipynb\" target=\"_parent\"><img src=\"https://colab.research.google.com/assets/colab-badge.svg\" alt=\"Open In Colab\"/></a>"
      ]
    },
    {
      "cell_type": "markdown",
      "metadata": {
        "id": "y1285JclPOop",
        "colab_type": "text"
      },
      "source": [
        "**Installing the Libraries**"
      ]
    },
    {
      "cell_type": "code",
      "metadata": {
        "id": "uaCG4PrhO9Nj",
        "colab_type": "code",
        "outputId": "58352e7f-5eb6-4c51-aaf4-8fe0224898de",
        "colab": {
          "base_uri": "https://localhost:8080/",
          "height": 80
        }
      },
      "source": [
        "import tensorflow as tf\n",
        "print(tf.__version__)\n",
        "\n",
        "# To install tensorflow 2.0\n",
        "# !pip install tensorflow==2.0.0-beta0\n",
        "\n",
        "# If tensorflow version is less than 2.0.0\n",
        "tf.enable_eager_execution()\n",
        "\n",
        "# To install tensorflow dataset library : !pip install -q tensorflow-datasets"
      ],
      "execution_count": 1,
      "outputs": [
        {
          "output_type": "display_data",
          "data": {
            "text/html": [
              "<p style=\"color: red;\">\n",
              "The default version of TensorFlow in Colab will soon switch to TensorFlow 2.x.<br>\n",
              "We recommend you <a href=\"https://www.tensorflow.org/guide/migrate\" target=\"_blank\">upgrade</a> now \n",
              "or ensure your notebook will continue to use TensorFlow 1.x via the <code>%tensorflow_version 1.x</code> magic:\n",
              "<a href=\"https://colab.research.google.com/notebooks/tensorflow_version.ipynb\" target=\"_blank\">more info</a>.</p>\n"
            ],
            "text/plain": [
              "<IPython.core.display.HTML object>"
            ]
          },
          "metadata": {
            "tags": []
          }
        },
        {
          "output_type": "stream",
          "text": [
            "1.15.0\n"
          ],
          "name": "stdout"
        }
      ]
    },
    {
      "cell_type": "markdown",
      "metadata": {
        "id": "qeWO4_AaO9FQ",
        "colab_type": "text"
      },
      "source": [
        "**Loading the Data**\n"
      ]
    },
    {
      "cell_type": "code",
      "metadata": {
        "id": "0Ko6V9XKQHy-",
        "colab_type": "code",
        "outputId": "bf4b0ef2-6fdd-4e96-b77b-af49d84a2565",
        "colab": {
          "base_uri": "https://localhost:8080/",
          "height": 204
        }
      },
      "source": [
        "!wget --no-check-certificate \\\n",
        "    https://storage.googleapis.com/laurencemoroney-blog.appspot.com/sarcasm.json \\\n",
        "    -O /tmp/sarcasm.json"
      ],
      "execution_count": 2,
      "outputs": [
        {
          "output_type": "stream",
          "text": [
            "--2020-03-22 08:29:21--  https://storage.googleapis.com/laurencemoroney-blog.appspot.com/sarcasm.json\n",
            "Resolving storage.googleapis.com (storage.googleapis.com)... 74.125.195.128, 2607:f8b0:400e:c08::80\n",
            "Connecting to storage.googleapis.com (storage.googleapis.com)|74.125.195.128|:443... connected.\n",
            "HTTP request sent, awaiting response... 200 OK\n",
            "Length: 5643545 (5.4M) [application/json]\n",
            "Saving to: ‘/tmp/sarcasm.json’\n",
            "\n",
            "\r/tmp/sarcasm.json     0%[                    ]       0  --.-KB/s               \r/tmp/sarcasm.json   100%[===================>]   5.38M  --.-KB/s    in 0.03s   \n",
            "\n",
            "2020-03-22 08:29:21 (177 MB/s) - ‘/tmp/sarcasm.json’ saved [5643545/5643545]\n",
            "\n"
          ],
          "name": "stdout"
        }
      ]
    },
    {
      "cell_type": "markdown",
      "metadata": {
        "id": "y8enXAUfQjTU",
        "colab_type": "text"
      },
      "source": [
        "Extracting the labels and headline from loaded dataset"
      ]
    },
    {
      "cell_type": "code",
      "metadata": {
        "id": "rf4ZfcMxQrWr",
        "colab_type": "code",
        "colab": {}
      },
      "source": [
        "import json\n",
        "\n",
        "with open(\"/tmp/sarcasm.json\", 'r') as f:\n",
        "    datastore = json.load(f)\n",
        "\n",
        "sentences = []\n",
        "labels = []\n",
        "\n",
        "for item in datastore:\n",
        "    sentences.append(item['headline'])\n",
        "    labels.append(item['is_sarcastic'])"
      ],
      "execution_count": 0,
      "outputs": []
    },
    {
      "cell_type": "code",
      "metadata": {
        "id": "oDRtcYkIXSC6",
        "colab_type": "code",
        "colab": {}
      },
      "source": [
        "training_size = 20000\n",
        "\n",
        "training_sentences = sentences[0:training_size]\n",
        "testing_sentences = sentences[training_size:]\n",
        "training_labels = labels[0:training_size]\n",
        "testing_labels = labels[training_size:]"
      ],
      "execution_count": 0,
      "outputs": []
    },
    {
      "cell_type": "code",
      "metadata": {
        "id": "w3HJeusBXcoV",
        "colab_type": "code",
        "colab": {
          "base_uri": "https://localhost:8080/",
          "height": 54
        },
        "outputId": "669e3d66-b008-49da-e2c5-96d10a909179"
      },
      "source": [
        "print(training_labels[:2], training_sentences[:2])"
      ],
      "execution_count": 6,
      "outputs": [
        {
          "output_type": "stream",
          "text": [
            "[0, 0] [\"former versace store clerk sues over secret 'black code' for minority shoppers\", \"the 'roseanne' revival catches up to our thorny political mood, for better and worse\"]\n"
          ],
          "name": "stdout"
        }
      ]
    },
    {
      "cell_type": "markdown",
      "metadata": {
        "id": "MA8Pv5xDSbNN",
        "colab_type": "text"
      },
      "source": [
        "**Preprocessing the data**\n",
        "\n",
        "```\n",
        "hyperparameters\n",
        "```\n",
        "\n"
      ]
    },
    {
      "cell_type": "code",
      "metadata": {
        "id": "CN2KgljOQ62w",
        "colab_type": "code",
        "colab": {}
      },
      "source": [
        "vocab_size = 10000\n",
        "embedding_dim = 16\n",
        "padding_type='post'\n",
        "max_length = 100\n",
        "trunc_type='post'\n",
        "oov_token = \"OOV\""
      ],
      "execution_count": 0,
      "outputs": []
    },
    {
      "cell_type": "markdown",
      "metadata": {
        "id": "qkvwAWH_TJ3t",
        "colab_type": "text"
      },
      "source": [
        "Padding the data"
      ]
    },
    {
      "cell_type": "code",
      "metadata": {
        "id": "8yKwG52XTI73",
        "colab_type": "code",
        "colab": {}
      },
      "source": [
        "# Importing the Libraries\n",
        "from tensorflow.keras.preprocessing.text import Tokenizer\n",
        "from tensorflow.keras.preprocessing.sequence import pad_sequences\n",
        "\n",
        "# Fitting the tokenizer on training data\n",
        "tokenizer = Tokenizer(num_words = vocab_size, oov_token=oov_token)\n",
        "tokenizer.fit_on_texts(training_sentences)\n",
        "word_index = tokenizer.word_index\n",
        "sequences = tokenizer.texts_to_sequences(training_sentences)\n",
        "padded = pad_sequences(sequences, maxlen=max_length, padding=padding_type, truncating=trunc_type)\n",
        "\n",
        "testing_sequences = tokenizer.texts_to_sequences(testing_sentences)\n",
        "testing_padded = pad_sequences(testing_sequences, maxlen=max_length, padding=padding_type, truncating=trunc_type)"
      ],
      "execution_count": 0,
      "outputs": []
    },
    {
      "cell_type": "code",
      "metadata": {
        "id": "Su-QUCEtY17v",
        "colab_type": "code",
        "colab": {}
      },
      "source": [
        "import numpy as np\n",
        "training_padded = np.array(padded)\n",
        "training_labels = np.array(training_labels)\n",
        "testing_padded = np.array(testing_padded)\n",
        "testing_labels = np.array(testing_labels)"
      ],
      "execution_count": 0,
      "outputs": []
    },
    {
      "cell_type": "code",
      "metadata": {
        "id": "cafwOekrY_jW",
        "colab_type": "code",
        "colab": {
          "base_uri": "https://localhost:8080/",
          "height": 289
        },
        "outputId": "3ce442a7-8f01-4257-b8aa-8988facebe4f"
      },
      "source": [
        "print(training_labels[:1], training_padded[:1],'\\n', testing_labels[:1], testing_padded[:1])"
      ],
      "execution_count": 15,
      "outputs": [
        {
          "output_type": "stream",
          "text": [
            "[0] [[ 328    1  799 3405 2404   47  389 2214    1    6 2614 8863    0    0\n",
            "     0    0    0    0    0    0    0    0    0    0    0    0    0    0\n",
            "     0    0    0    0    0    0    0    0    0    0    0    0    0    0\n",
            "     0    0    0    0    0    0    0    0    0    0    0    0    0    0\n",
            "     0    0    0    0    0    0    0    0    0    0    0    0    0    0\n",
            "     0    0    0    0    0    0    0    0    0    0    0    0    0    0\n",
            "     0    0    0    0    0    0    0    0    0    0    0    0    0    0\n",
            "     0    0]] \n",
            " [1] [[   1 1100 6663 9423   30    1 2439    5  519  109    0    0    0    0\n",
            "     0    0    0    0    0    0    0    0    0    0    0    0    0    0\n",
            "     0    0    0    0    0    0    0    0    0    0    0    0    0    0\n",
            "     0    0    0    0    0    0    0    0    0    0    0    0    0    0\n",
            "     0    0    0    0    0    0    0    0    0    0    0    0    0    0\n",
            "     0    0    0    0    0    0    0    0    0    0    0    0    0    0\n",
            "     0    0    0    0    0    0    0    0    0    0    0    0    0    0\n",
            "     0    0]]\n"
          ],
          "name": "stdout"
        }
      ]
    },
    {
      "cell_type": "markdown",
      "metadata": {
        "id": "CjmNnDuCL1fR",
        "colab_type": "text"
      },
      "source": [
        "Decoding the Padded Sentence"
      ]
    },
    {
      "cell_type": "code",
      "metadata": {
        "id": "tT3uv6b_LHdc",
        "colab_type": "code",
        "outputId": "f19de4f0-9bc0-4b4e-8f99-f71913a202bf",
        "colab": {
          "base_uri": "https://localhost:8080/",
          "height": 71
        }
      },
      "source": [
        "reverse_word_index = dict([(value, key) for (key, value) in word_index.items()])\n",
        "\n",
        "def decode_headline(text):\n",
        "    return ' '.join([reverse_word_index.get(i, '?') for i in text])\n",
        "\n",
        "print(decode_headline(training_padded[1]))\n",
        "print(training_sentences[1])"
      ],
      "execution_count": 17,
      "outputs": [
        {
          "output_type": "stream",
          "text": [
            "the 'roseanne' revival catches up to our OOV political mood for better and worse ? ? ? ? ? ? ? ? ? ? ? ? ? ? ? ? ? ? ? ? ? ? ? ? ? ? ? ? ? ? ? ? ? ? ? ? ? ? ? ? ? ? ? ? ? ? ? ? ? ? ? ? ? ? ? ? ? ? ? ? ? ? ? ? ? ? ? ? ? ? ? ? ? ? ? ? ? ? ? ? ? ? ? ? ? ?\n",
            "the 'roseanne' revival catches up to our thorny political mood, for better and worse\n"
          ],
          "name": "stdout"
        }
      ]
    },
    {
      "cell_type": "markdown",
      "metadata": {
        "id": "UJQJq1_ZPhDE",
        "colab_type": "text"
      },
      "source": [
        "**Creating the Model**"
      ]
    },
    {
      "cell_type": "code",
      "metadata": {
        "id": "INrR36qZRBD4",
        "colab_type": "code",
        "outputId": "8311c239-b984-4a6b-a8da-030b6689999c",
        "colab": {
          "base_uri": "https://localhost:8080/",
          "height": 289
        }
      },
      "source": [
        "model = tf.keras.Sequential([tf.keras.layers.Embedding(vocab_size, embedding_dim, input_length=max_length),\n",
        "                             tf.keras.layers.GlobalAveragePooling1D(),\n",
        "                             tf.keras.layers.Dense(24, activation='relu'),\n",
        "                             tf.keras.layers.Dense(1, activation='sigmoid')])\n",
        "model.compile(loss='binary_crossentropy', optimizer='adam', metrices=['accuracy'])\n",
        "model.summary()"
      ],
      "execution_count": 27,
      "outputs": [
        {
          "output_type": "stream",
          "text": [
            "Model: \"sequential_3\"\n",
            "_________________________________________________________________\n",
            "Layer (type)                 Output Shape              Param #   \n",
            "=================================================================\n",
            "embedding_3 (Embedding)      (None, 100, 16)           160000    \n",
            "_________________________________________________________________\n",
            "global_average_pooling1d_3 ( (None, 16)                0         \n",
            "_________________________________________________________________\n",
            "dense_6 (Dense)              (None, 24)                408       \n",
            "_________________________________________________________________\n",
            "dense_7 (Dense)              (None, 1)                 25        \n",
            "=================================================================\n",
            "Total params: 160,433\n",
            "Trainable params: 160,433\n",
            "Non-trainable params: 0\n",
            "_________________________________________________________________\n"
          ],
          "name": "stdout"
        }
      ]
    },
    {
      "cell_type": "markdown",
      "metadata": {
        "id": "Z2Z357NSQ-Mi",
        "colab_type": "text"
      },
      "source": [
        "Training corpus"
      ]
    },
    {
      "cell_type": "code",
      "metadata": {
        "id": "Yg87VT4gQ1p_",
        "colab_type": "code",
        "outputId": "cbe0ff2e-2a69-445b-9e1d-951c48993cc9",
        "colab": {
          "base_uri": "https://localhost:8080/",
          "height": 1000
        }
      },
      "source": [
        "num_epochs = 30\n",
        "history = model.fit(training_padded, training_labels, epochs=num_epochs,verbose = 1, validation_data=(testing_padded, testing_labels))"
      ],
      "execution_count": 28,
      "outputs": [
        {
          "output_type": "stream",
          "text": [
            "Train on 20000 samples, validate on 6709 samples\n",
            "Epoch 1/30\n",
            "20000/20000 [==============================] - 3s 168us/sample - loss: 0.6682 - val_loss: 0.5983\n",
            "Epoch 2/30\n",
            "20000/20000 [==============================] - 3s 148us/sample - loss: 0.4352 - val_loss: 0.3814\n",
            "Epoch 3/30\n",
            "20000/20000 [==============================] - 3s 151us/sample - loss: 0.3046 - val_loss: 0.3566\n",
            "Epoch 4/30\n",
            "20000/20000 [==============================] - 3s 147us/sample - loss: 0.2523 - val_loss: 0.3537\n",
            "Epoch 5/30\n",
            "20000/20000 [==============================] - 3s 148us/sample - loss: 0.2179 - val_loss: 0.3548\n",
            "Epoch 6/30\n",
            "20000/20000 [==============================] - 3s 149us/sample - loss: 0.1910 - val_loss: 0.3552\n",
            "Epoch 7/30\n",
            "20000/20000 [==============================] - 3s 148us/sample - loss: 0.1708 - val_loss: 0.3713\n",
            "Epoch 8/30\n",
            "20000/20000 [==============================] - 3s 144us/sample - loss: 0.1519 - val_loss: 0.3836\n",
            "Epoch 9/30\n",
            "20000/20000 [==============================] - 3s 150us/sample - loss: 0.1370 - val_loss: 0.4173\n",
            "Epoch 10/30\n",
            "20000/20000 [==============================] - 3s 146us/sample - loss: 0.1237 - val_loss: 0.4269\n",
            "Epoch 11/30\n",
            "20000/20000 [==============================] - 3s 146us/sample - loss: 0.1123 - val_loss: 0.4460\n",
            "Epoch 12/30\n",
            "20000/20000 [==============================] - 3s 147us/sample - loss: 0.1030 - val_loss: 0.4740\n",
            "Epoch 13/30\n",
            "20000/20000 [==============================] - 3s 146us/sample - loss: 0.0937 - val_loss: 0.5010\n",
            "Epoch 14/30\n",
            "20000/20000 [==============================] - 3s 148us/sample - loss: 0.0858 - val_loss: 0.5301\n",
            "Epoch 15/30\n",
            "20000/20000 [==============================] - 3s 151us/sample - loss: 0.0779 - val_loss: 0.5564\n",
            "Epoch 16/30\n",
            "20000/20000 [==============================] - 3s 160us/sample - loss: 0.0718 - val_loss: 0.5882\n",
            "Epoch 17/30\n",
            "20000/20000 [==============================] - 3s 157us/sample - loss: 0.0656 - val_loss: 0.6245\n",
            "Epoch 18/30\n",
            "20000/20000 [==============================] - 3s 147us/sample - loss: 0.0602 - val_loss: 0.6570\n",
            "Epoch 19/30\n",
            "20000/20000 [==============================] - 3s 150us/sample - loss: 0.0546 - val_loss: 0.7070\n",
            "Epoch 20/30\n",
            "20000/20000 [==============================] - 3s 146us/sample - loss: 0.0504 - val_loss: 0.7474\n",
            "Epoch 21/30\n",
            "20000/20000 [==============================] - 3s 149us/sample - loss: 0.0475 - val_loss: 0.7838\n",
            "Epoch 22/30\n",
            "20000/20000 [==============================] - 3s 148us/sample - loss: 0.0428 - val_loss: 0.8153\n",
            "Epoch 23/30\n",
            "20000/20000 [==============================] - 3s 149us/sample - loss: 0.0406 - val_loss: 0.8451\n",
            "Epoch 24/30\n",
            "20000/20000 [==============================] - 3s 148us/sample - loss: 0.0367 - val_loss: 0.9030\n",
            "Epoch 25/30\n",
            "20000/20000 [==============================] - 3s 161us/sample - loss: 0.0340 - val_loss: 0.9120\n",
            "Epoch 26/30\n",
            "20000/20000 [==============================] - 3s 159us/sample - loss: 0.0327 - val_loss: 0.9707\n",
            "Epoch 27/30\n",
            "20000/20000 [==============================] - 3s 158us/sample - loss: 0.0280 - val_loss: 1.0318\n",
            "Epoch 28/30\n",
            "20000/20000 [==============================] - 3s 147us/sample - loss: 0.0254 - val_loss: 1.0411\n",
            "Epoch 29/30\n",
            "20000/20000 [==============================] - 3s 149us/sample - loss: 0.0254 - val_loss: 1.1326\n",
            "Epoch 30/30\n",
            "20000/20000 [==============================] - 3s 146us/sample - loss: 0.0215 - val_loss: 1.1544\n"
          ],
          "name": "stdout"
        }
      ]
    },
    {
      "cell_type": "code",
      "metadata": {
        "id": "k2pbXFETeVdA",
        "colab_type": "code",
        "colab": {
          "base_uri": "https://localhost:8080/",
          "height": 281
        },
        "outputId": "1905f2b8-123c-4a27-cbe3-8897f09579ba"
      },
      "source": [
        "import matplotlib.pyplot as plt\n",
        "\n",
        "\n",
        "def plot_graphs(history, string):\n",
        "  plt.plot(history.history[string])\n",
        "  plt.plot(history.history['val_'+string])\n",
        "  plt.xlabel(\"Epochs\")\n",
        "  plt.ylabel(string)\n",
        "  plt.legend([string, 'val_'+string])\n",
        "  plt.show()\n",
        "\n",
        "plot_graphs(history, \"loss\")"
      ],
      "execution_count": 29,
      "outputs": [
        {
          "output_type": "display_data",
          "data": {
            "image/png": "[encoded data removed]",
            "text/plain": [
              "<Figure size 432x288 with 1 Axes>"
            ]
          },
          "metadata": {
            "tags": []
          }
        }
      ]
    },
    {
      "cell_type": "code",
      "metadata": {
        "id": "y47xDjBqjVda",
        "colab_type": "code",
        "colab": {
          "base_uri": "https://localhost:8080/",
          "height": 51
        },
        "outputId": "4c45a6e1-78cc-4928-8791-2b72ce05fda3"
      },
      "source": [
        "sentence = [\"granny starting to fear spiders in the garden might be real\", \"game of thrones season finale showing this sunday night\"]\n",
        "sequences = tokenizer.texts_to_sequences(sentence)\n",
        "padded = pad_sequences(sequences, maxlen=max_length, padding=padding_type, truncating=trunc_type)\n",
        "print(np.around(model.predict(padded)))"
      ],
      "execution_count": 33,
      "outputs": [
        {
          "output_type": "stream",
          "text": [
            "[[1.]\n",
            " [0.]]\n"
          ],
          "name": "stdout"
        }
      ]
    },
    {
      "cell_type": "markdown",
      "metadata": {
        "id": "jyaBopwcUg_n",
        "colab_type": "text"
      },
      "source": [
        "Embedding files (vecs and meta)"
      ]
    },
    {
      "cell_type": "code",
      "metadata": {
        "id": "I3889PrWU5fG",
        "colab_type": "code",
        "outputId": "6dfe1c58-f8ce-4b88-dca0-916d29fcad10",
        "colab": {
          "base_uri": "https://localhost:8080/",
          "height": 34
        }
      },
      "source": [
        "e = model.layers[0]\n",
        "weights = e.get_weights()[0]\n",
        "print(weights.shape)"
      ],
      "execution_count": 30,
      "outputs": [
        {
          "output_type": "stream",
          "text": [
            "(10000, 16)\n"
          ],
          "name": "stdout"
        }
      ]
    },
    {
      "cell_type": "code",
      "metadata": {
        "id": "_k-S_hkuUmMa",
        "colab_type": "code",
        "colab": {}
      },
      "source": [
        "import io\n",
        "\n",
        "out_v = io.open('vecs.tsv', 'w', encoding='utf-8')\n",
        "out_m = io.open('meta.tsv', 'w', encoding='utf-8')\n",
        "for word_num in range(1, vocab_size):\n",
        "  word = reverse_word_index[word_num]\n",
        "  embeddings = weights[word_num]\n",
        "  out_m.write(word + \"\\n\")\n",
        "  out_v.write('\\t'.join([str(x) for x in embeddings]) + \"\\n\")\n",
        "out_v.close()\n",
        "out_m.close()"
      ],
      "execution_count": 0,
      "outputs": []
    },
    {
      "cell_type": "code",
      "metadata": {
        "id": "H3u8pVWOUoRO",
        "colab_type": "code",
        "colab": {}
      },
      "source": [
        "try:\n",
        "  from google.colab import files\n",
        "except ImportError:\n",
        "  pass\n",
        "else:\n",
        "  files.download('vecs.tsv')\n",
        "  files.download('meta.tsv')"
      ],
      "execution_count": 0,
      "outputs": []
    }
  ]
}