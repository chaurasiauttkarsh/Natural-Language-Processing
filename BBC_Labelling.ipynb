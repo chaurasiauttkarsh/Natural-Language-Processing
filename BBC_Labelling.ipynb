{
  "nbformat": 4,
  "nbformat_minor": 0,
  "metadata": {
    "colab": {
      "name": "BBC Labelling.ipynb",
      "provenance": [],
      "authorship_tag": "ABX9TyPJ3e+FQjlFyOWzzQcPa+pV",
      "include_colab_link": true
    },
    "kernelspec": {
      "name": "python3",
      "display_name": "Python 3"
    },
    "accelerator": "GPU"
  },
  "cells": [
    {
      "cell_type": "markdown",
      "metadata": {
        "id": "view-in-github",
        "colab_type": "text"
      },
      "source": [
        "<a href=\"https://colab.research.google.com/github/chaurasiauttkarsh/Natural-Language-Processing/blob/master/BBC_Labelling.ipynb\" target=\"_parent\"><img src=\"https://colab.research.google.com/assets/colab-badge.svg\" alt=\"Open In Colab\"/></a>"
      ]
    },
    {
      "cell_type": "markdown",
      "metadata": {
        "id": "y1285JclPOop",
        "colab_type": "text"
      },
      "source": [
        "**Installing the Libraries**"
      ]
    },
    {
      "cell_type": "code",
      "metadata": {
        "id": "uaCG4PrhO9Nj",
        "colab_type": "code",
        "outputId": "0fa5cbb3-73a8-4926-cc2e-bb36aa428255",
        "colab": {
          "base_uri": "https://localhost:8080/",
          "height": 80
        }
      },
      "source": [
        "import tensorflow as tf\n",
        "print(tf.__version__)\n",
        "\n",
        "# To install tensorflow 2.0\n",
        "# !pip install tensorflow==2.0.0-beta0\n",
        "\n",
        "# If tensorflow version is less than 2.0.0\n",
        "tf.enable_eager_execution()\n",
        "\n",
        "# To install tensorflow dataset library : !pip install -q tensorflow-datasets"
      ],
      "execution_count": 1,
      "outputs": [
        {
          "output_type": "display_data",
          "data": {
            "text/html": [
              "<p style=\"color: red;\">\n",
              "The default version of TensorFlow in Colab will soon switch to TensorFlow 2.x.<br>\n",
              "We recommend you <a href=\"https://www.tensorflow.org/guide/migrate\" target=\"_blank\">upgrade</a> now \n",
              "or ensure your notebook will continue to use TensorFlow 1.x via the <code>%tensorflow_version 1.x</code> magic:\n",
              "<a href=\"https://colab.research.google.com/notebooks/tensorflow_version.ipynb\" target=\"_blank\">more info</a>.</p>\n"
            ],
            "text/plain": [
              "<IPython.core.display.HTML object>"
            ]
          },
          "metadata": {
            "tags": []
          }
        },
        {
          "output_type": "stream",
          "text": [
            "1.15.0\n"
          ],
          "name": "stdout"
        }
      ]
    },
    {
      "cell_type": "markdown",
      "metadata": {
        "id": "qeWO4_AaO9FQ",
        "colab_type": "text"
      },
      "source": [
        "**Loading the Data**\n"
      ]
    },
    {
      "cell_type": "code",
      "metadata": {
        "id": "0Ko6V9XKQHy-",
        "colab_type": "code",
        "outputId": "21e9b2a8-2311-4368-e0b6-29b3657cd07a",
        "colab": {
          "base_uri": "https://localhost:8080/",
          "height": 204
        }
      },
      "source": [
        "!wget --no-check-certificate \\\n",
        "    https://storage.googleapis.com/laurencemoroney-blog.appspot.com/bbc-text.csv \\\n",
        "    -O /tmp/bbc-text.csv"
      ],
      "execution_count": 2,
      "outputs": [
        {
          "output_type": "stream",
          "text": [
            "--2020-03-22 18:57:43--  https://storage.googleapis.com/laurencemoroney-blog.appspot.com/bbc-text.csv\n",
            "Resolving storage.googleapis.com (storage.googleapis.com)... 74.125.195.128, 2607:f8b0:400e:c08::80\n",
            "Connecting to storage.googleapis.com (storage.googleapis.com)|74.125.195.128|:443... connected.\n",
            "HTTP request sent, awaiting response... 200 OK\n",
            "Length: 5057493 (4.8M) [application/octet-stream]\n",
            "Saving to: ‘/tmp/bbc-text.csv’\n",
            "\n",
            "\r/tmp/bbc-text.csv     0%[                    ]       0  --.-KB/s               \r/tmp/bbc-text.csv   100%[===================>]   4.82M  --.-KB/s    in 0.03s   \n",
            "\n",
            "2020-03-22 18:57:44 (175 MB/s) - ‘/tmp/bbc-text.csv’ saved [5057493/5057493]\n",
            "\n"
          ],
          "name": "stdout"
        }
      ]
    },
    {
      "cell_type": "markdown",
      "metadata": {
        "id": "y8enXAUfQjTU",
        "colab_type": "text"
      },
      "source": [
        "Extracting the labels and news from loaded dataset"
      ]
    },
    {
      "cell_type": "code",
      "metadata": {
        "id": "rf4ZfcMxQrWr",
        "colab_type": "code",
        "colab": {}
      },
      "source": [
        "import csv\n",
        "\n",
        "stopwords = [ \"a\", \"about\", \"above\", \"after\", \"again\", \"against\", \"all\", \"am\", \"an\", \"and\", \"any\", \"are\", \"as\", \"at\", \"be\", \"because\", \"been\", \"before\", \"being\", \"below\", \"between\", \"both\", \"but\", \"by\", \"could\", \"did\", \"do\", \"does\", \"doing\", \"down\", \"during\", \"each\", \"few\", \"for\", \"from\", \"further\", \"had\", \"has\", \"have\", \"having\", \"he\", \"he'd\", \"he'll\", \"he's\", \"her\", \"here\", \"here's\", \"hers\", \"herself\", \"him\", \"himself\", \"his\", \"how\", \"how's\", \"i\", \"i'd\", \"i'll\", \"i'm\", \"i've\", \"if\", \"in\", \"into\", \"is\", \"it\", \"it's\", \"its\", \"itself\", \"let's\", \"me\", \"more\", \"most\", \"my\", \"myself\", \"nor\", \"of\", \"on\", \"once\", \"only\", \"or\", \"other\", \"ought\", \"our\", \"ours\", \"ourselves\", \"out\", \"over\", \"own\", \"same\", \"she\", \"she'd\", \"she'll\", \"she's\", \"should\", \"so\", \"some\", \"such\", \"than\", \"that\", \"that's\", \"the\", \"their\", \"theirs\", \"them\", \"themselves\", \"then\", \"there\", \"there's\", \"these\", \"they\", \"they'd\", \"they'll\", \"they're\", \"they've\", \"this\", \"those\", \"through\", \"to\", \"too\", \"under\", \"until\", \"up\", \"very\", \"was\", \"we\", \"we'd\", \"we'll\", \"we're\", \"we've\", \"were\", \"what\", \"what's\", \"when\", \"when's\", \"where\", \"where's\", \"which\", \"while\", \"who\", \"who's\", \"whom\", \"why\", \"why's\", \"with\", \"would\", \"you\", \"you'd\", \"you'll\", \"you're\", \"you've\", \"your\", \"yours\", \"yourself\", \"yourselves\" ]\n",
        "\n",
        "sentences = []\n",
        "labels = []\n",
        "with open(\"/tmp/bbc-text.csv\", 'r') as csvfile:\n",
        "    reader = csv.reader(csvfile, delimiter=',')\n",
        "    next(reader)\n",
        "    for row in reader:\n",
        "        labels.append(row[0])\n",
        "        sentence = row[1]\n",
        "        for word in stopwords:\n",
        "            token = \" \" + word + \" \"\n",
        "            sentence = sentence.replace(token, \" \")\n",
        "            sentence = sentence.replace(\"  \", \" \")\n",
        "        sentences.append(sentence)"
      ],
      "execution_count": 0,
      "outputs": []
    },
    {
      "cell_type": "code",
      "metadata": {
        "id": "9KEitSyiNO_s",
        "colab_type": "code",
        "outputId": "f21ccd90-d698-4cbc-dd81-19d797f36187",
        "colab": {
          "base_uri": "https://localhost:8080/",
          "height": 51
        }
      },
      "source": [
        "print(len(labels))\n",
        "print(len(sentences))"
      ],
      "execution_count": 4,
      "outputs": [
        {
          "output_type": "stream",
          "text": [
            "2225\n",
            "2225\n"
          ],
          "name": "stdout"
        }
      ]
    },
    {
      "cell_type": "markdown",
      "metadata": {
        "id": "MPxwN6INOde6",
        "colab_type": "text"
      },
      "source": [
        "In total 5 Labels are present"
      ]
    },
    {
      "cell_type": "code",
      "metadata": {
        "id": "w-VuzeYxOODn",
        "colab_type": "code",
        "outputId": "789c7c02-ccf6-4ea9-dd26-3dd958bd712a",
        "colab": {
          "base_uri": "https://localhost:8080/",
          "height": 102
        }
      },
      "source": [
        "import numpy as np\n",
        "(unique, counts) = np.unique(labels, return_counts=True)\n",
        "frequencies = np.asarray((unique, counts)).T\n",
        "print(frequencies)"
      ],
      "execution_count": 5,
      "outputs": [
        {
          "output_type": "stream",
          "text": [
            "[['business' '510']\n",
            " ['entertainment' '386']\n",
            " ['politics' '417']\n",
            " ['sport' '511']\n",
            " ['tech' '401']]\n"
          ],
          "name": "stdout"
        }
      ]
    },
    {
      "cell_type": "markdown",
      "metadata": {
        "id": "6c18BWpkOjid",
        "colab_type": "text"
      },
      "source": [
        "Splitting the data into 0.8 training and 0.2 test"
      ]
    },
    {
      "cell_type": "code",
      "metadata": {
        "id": "v8GOtj8KOthZ",
        "colab_type": "code",
        "colab": {}
      },
      "source": [
        "training_size = 1780\n",
        "training_sentences = sentences[0:training_size]\n",
        "testing_sentences = sentences[training_size:]\n",
        "training_labels = labels[0:training_size]\n",
        "testing_labels = labels[training_size:]"
      ],
      "execution_count": 0,
      "outputs": []
    },
    {
      "cell_type": "markdown",
      "metadata": {
        "id": "MA8Pv5xDSbNN",
        "colab_type": "text"
      },
      "source": [
        "**Preprocessing the data**\n",
        "\n",
        "```\n",
        "hyperparameters\n",
        "```\n",
        "\n"
      ]
    },
    {
      "cell_type": "code",
      "metadata": {
        "id": "CN2KgljOQ62w",
        "colab_type": "code",
        "colab": {}
      },
      "source": [
        "vocab_size = 1000\n",
        "embedding_dim = 16\n",
        "max_length = 120\n",
        "trunc_type='post'\n",
        "padding_type='post'\n",
        "oov_token = \"OOV\""
      ],
      "execution_count": 0,
      "outputs": []
    },
    {
      "cell_type": "markdown",
      "metadata": {
        "id": "qkvwAWH_TJ3t",
        "colab_type": "text"
      },
      "source": [
        "Padding the data"
      ]
    },
    {
      "cell_type": "code",
      "metadata": {
        "id": "8yKwG52XTI73",
        "colab_type": "code",
        "colab": {}
      },
      "source": [
        "# Importing the Libraries\n",
        "from tensorflow.keras.preprocessing.text import Tokenizer\n",
        "from tensorflow.keras.preprocessing.sequence import pad_sequences\n",
        "\n",
        "# Fitting the tokenizer on training data\n",
        "tokenizer = Tokenizer(num_words = vocab_size, oov_token=oov_token)\n",
        "tokenizer.fit_on_texts(training_sentences)\n",
        "word_index = tokenizer.word_index\n",
        "sequences = tokenizer.texts_to_sequences(training_sentences)\n",
        "padded = pad_sequences(sequences, maxlen=max_length, padding=padding_type, truncating=trunc_type)\n",
        "\n",
        "testing_sequences = tokenizer.texts_to_sequences(testing_sentences)\n",
        "testing_padded = pad_sequences(testing_sequences, maxlen=max_length, padding=padding_type, truncating=trunc_type)"
      ],
      "execution_count": 0,
      "outputs": []
    },
    {
      "cell_type": "code",
      "metadata": {
        "id": "LHb54NIWUz4m",
        "colab_type": "code",
        "colab": {}
      },
      "source": [
        "import numpy as np\n",
        "training_padded = np.array(padded)\n",
        "training_labels = np.array(training_labels)\n",
        "testing_padded = np.array(testing_padded)\n",
        "testing_labels = np.array(testing_labels)"
      ],
      "execution_count": 0,
      "outputs": []
    },
    {
      "cell_type": "code",
      "metadata": {
        "id": "pJYR7H0vVCaY",
        "colab_type": "code",
        "outputId": "b61ea4e3-c1d3-40fc-cd4c-1767475e4dde",
        "colab": {
          "base_uri": "https://localhost:8080/",
          "height": 34
        }
      },
      "source": [
        "print(training_labels[:5])"
      ],
      "execution_count": 10,
      "outputs": [
        {
          "output_type": "stream",
          "text": [
            "['tech' 'business' 'sport' 'sport' 'entertainment']\n"
          ],
          "name": "stdout"
        }
      ]
    },
    {
      "cell_type": "code",
      "metadata": {
        "id": "8BZiyGOzVmfg",
        "colab_type": "code",
        "colab": {}
      },
      "source": [
        "label_tokenizer = Tokenizer()\n",
        "label_tokenizer.fit_on_texts(labels)\n",
        "\n",
        "training_label_seq = np.array(label_tokenizer.texts_to_sequences(training_labels))\n",
        "testing_label_seq = np.array(label_tokenizer.texts_to_sequences(testing_labels))"
      ],
      "execution_count": 0,
      "outputs": []
    },
    {
      "cell_type": "code",
      "metadata": {
        "id": "CpJ8kVrQVz9R",
        "colab_type": "code",
        "outputId": "ecdca631-e1be-4185-f9f5-c89039c72a16",
        "colab": {
          "base_uri": "https://localhost:8080/",
          "height": 102
        }
      },
      "source": [
        "print(training_label_seq[:5])"
      ],
      "execution_count": 12,
      "outputs": [
        {
          "output_type": "stream",
          "text": [
            "[[4]\n",
            " [2]\n",
            " [1]\n",
            " [1]\n",
            " [5]]\n"
          ],
          "name": "stdout"
        }
      ]
    },
    {
      "cell_type": "code",
      "metadata": {
        "id": "-ixERh6qWgDj",
        "colab_type": "code",
        "outputId": "d80b0dcc-f7c3-4fc6-e506-1705b20e6ca3",
        "colab": {
          "base_uri": "https://localhost:8080/",
          "height": 34
        }
      },
      "source": [
        "label_word_index = label_tokenizer.word_index\n",
        "print(label_word_index)"
      ],
      "execution_count": 13,
      "outputs": [
        {
          "output_type": "stream",
          "text": [
            "{'sport': 1, 'business': 2, 'politics': 3, 'tech': 4, 'entertainment': 5}\n"
          ],
          "name": "stdout"
        }
      ]
    },
    {
      "cell_type": "markdown",
      "metadata": {
        "id": "CjmNnDuCL1fR",
        "colab_type": "text"
      },
      "source": [
        "Decoding the Padded Sentence"
      ]
    },
    {
      "cell_type": "code",
      "metadata": {
        "id": "tT3uv6b_LHdc",
        "colab_type": "code",
        "outputId": "98b846fe-8a51-49f1-a980-d031f26a1ee2",
        "colab": {
          "base_uri": "https://localhost:8080/",
          "height": 71
        }
      },
      "source": [
        "reverse_word_index = dict([(value, key) for (key, value) in word_index.items()])\n",
        "\n",
        "def decode_line(text):\n",
        "    return ' '.join([reverse_word_index.get(i, '?') for i in text])\n",
        "\n",
        "print(decode_line(training_padded[1]))\n",
        "print(training_sentences[1])"
      ],
      "execution_count": 14,
      "outputs": [
        {
          "output_type": "stream",
          "text": [
            "OOV boss left OOV OOV former OOV boss OOV OOV accused OOV OOV OOV OOV fraud never made OOV OOV OOV told OOV david OOV made comments OOV defence OOV OOV mr OOV not OOV OOV s problems phone company OOV 2002 OOV claim OOV OOV OOV firm s shares mr OOV already OOV OOV fraud OOV OOV monday defence OOV OOV OOV OOV OOV OOV OOV cross OOV asked mr OOV ever OOV mr OOV make OOV decision not OOV mr OOV OOV ever know mr OOV make OOV OOV OOV OOV mr OOV OOV no OOV OOV mr OOV admitted OOV OOV OOV OOV OOV former OOV chief financial OOV OOV OOV defence OOV trying OOV mr OOV\n",
            "worldcom boss left books alone former worldcom boss bernie ebbers accused overseeing $11bn (£5.8bn) fraud never made accounting decisions witness told jurors. david myers made comments questioning defence lawyers arguing mr ebbers not responsible worldcom s problems. phone company collapsed 2002 prosecutors claim losses hidden protect firm s shares. mr myers already pleaded guilty fraud assisting prosecutors. monday defence lawyer reid weingarten tried distance client allegations. cross examination asked mr myers ever knew mr ebbers make accounting decision . not aware mr myers replied. ever know mr ebbers make accounting entry worldcom books mr weingarten pressed. no replied witness. mr myers admitted ordered false accounting entries request former worldcom chief financial officer scott sullivan. defence lawyers trying paint mr sullivan admitted fraud will testify later trial mastermind behind worldcom s accounting house cards. mr ebbers team meanwhile looking portray affable boss admission pe graduate economist. whatever abilities mr ebbers transformed worldcom relative unknown $160bn telecoms giant investor darling late 1990s. worldcom s problems mounted however competition increased telecoms boom petered out. firm finally collapsed shareholders lost $180bn 20 000 workers lost jobs. mr ebbers trial expected last two months found guilty former ceo faces substantial jail sentence. firmly declared innocence.\n"
          ],
          "name": "stdout"
        }
      ]
    },
    {
      "cell_type": "markdown",
      "metadata": {
        "id": "UJQJq1_ZPhDE",
        "colab_type": "text"
      },
      "source": [
        "**Creating the Model**"
      ]
    },
    {
      "cell_type": "markdown",
      "metadata": {
        "id": "K0scwRKunIHR",
        "colab_type": "text"
      },
      "source": [
        "Last output is having 6 outputs because softmax outputs starting from 0, 1, 2, 3, 4, 5 (we have 1, 2, 3, 4, 5)"
      ]
    },
    {
      "cell_type": "code",
      "metadata": {
        "id": "INrR36qZRBD4",
        "colab_type": "code",
        "outputId": "26356e16-0939-469f-f4a9-2c96eb9159b6",
        "colab": {
          "base_uri": "https://localhost:8080/",
          "height": 289
        }
      },
      "source": [
        "model = tf.keras.Sequential([\n",
        "    tf.keras.layers.Embedding(vocab_size, embedding_dim, input_length=max_length),\n",
        "    tf.keras.layers.GlobalAveragePooling1D(),\n",
        "    tf.keras.layers.Dense(24, activation='relu'),\n",
        "    tf.keras.layers.Dense(6, activation='softmax')\n",
        "])\n",
        "model.compile(loss='sparse_categorical_crossentropy',optimizer='adam',metrics=['accuracy'])\n",
        "model.summary()"
      ],
      "execution_count": 15,
      "outputs": [
        {
          "output_type": "stream",
          "text": [
            "Model: \"sequential\"\n",
            "_________________________________________________________________\n",
            "Layer (type)                 Output Shape              Param #   \n",
            "=================================================================\n",
            "embedding (Embedding)        (None, 120, 16)           16000     \n",
            "_________________________________________________________________\n",
            "global_average_pooling1d (Gl (None, 16)                0         \n",
            "_________________________________________________________________\n",
            "dense (Dense)                (None, 24)                408       \n",
            "_________________________________________________________________\n",
            "dense_1 (Dense)              (None, 6)                 150       \n",
            "=================================================================\n",
            "Total params: 16,558\n",
            "Trainable params: 16,558\n",
            "Non-trainable params: 0\n",
            "_________________________________________________________________\n"
          ],
          "name": "stdout"
        }
      ]
    },
    {
      "cell_type": "markdown",
      "metadata": {
        "id": "Z2Z357NSQ-Mi",
        "colab_type": "text"
      },
      "source": [
        "Training corpus"
      ]
    },
    {
      "cell_type": "code",
      "metadata": {
        "id": "Yg87VT4gQ1p_",
        "colab_type": "code",
        "outputId": "35e7c408-bfa0-496b-d5b7-f0111a1477e3",
        "colab": {
          "base_uri": "https://localhost:8080/",
          "height": 1000
        }
      },
      "source": [
        "num_epochs = 30\n",
        "history = model.fit(training_padded, training_label_seq, epochs=num_epochs, validation_data=(testing_padded, testing_label_seq), verbose=2)"
      ],
      "execution_count": 16,
      "outputs": [
        {
          "output_type": "stream",
          "text": [
            "Train on 1780 samples, validate on 445 samples\n",
            "Epoch 1/30\n",
            "1780/1780 - 4s - loss: 1.7599 - acc: 0.2433 - val_loss: 1.7155 - val_acc: 0.3798\n",
            "Epoch 2/30\n",
            "1780/1780 - 0s - loss: 1.6722 - acc: 0.3764 - val_loss: 1.6167 - val_acc: 0.4292\n",
            "Epoch 3/30\n",
            "1780/1780 - 0s - loss: 1.5676 - acc: 0.4697 - val_loss: 1.5055 - val_acc: 0.4966\n",
            "Epoch 4/30\n",
            "1780/1780 - 0s - loss: 1.4260 - acc: 0.5961 - val_loss: 1.3424 - val_acc: 0.6090\n",
            "Epoch 5/30\n",
            "1780/1780 - 0s - loss: 1.2290 - acc: 0.6921 - val_loss: 1.1364 - val_acc: 0.7483\n",
            "Epoch 6/30\n",
            "1780/1780 - 0s - loss: 1.0086 - acc: 0.7770 - val_loss: 0.9329 - val_acc: 0.7978\n",
            "Epoch 7/30\n",
            "1780/1780 - 0s - loss: 0.8091 - acc: 0.8185 - val_loss: 0.7642 - val_acc: 0.8719\n",
            "Epoch 8/30\n",
            "1780/1780 - 0s - loss: 0.6487 - acc: 0.9028 - val_loss: 0.6324 - val_acc: 0.9101\n",
            "Epoch 9/30\n",
            "1780/1780 - 0s - loss: 0.5231 - acc: 0.9309 - val_loss: 0.5344 - val_acc: 0.9169\n",
            "Epoch 10/30\n",
            "1780/1780 - 0s - loss: 0.4250 - acc: 0.9517 - val_loss: 0.4537 - val_acc: 0.9281\n",
            "Epoch 11/30\n",
            "1780/1780 - 0s - loss: 0.3497 - acc: 0.9573 - val_loss: 0.3976 - val_acc: 0.9258\n",
            "Epoch 12/30\n",
            "1780/1780 - 0s - loss: 0.2863 - acc: 0.9618 - val_loss: 0.3535 - val_acc: 0.9258\n",
            "Epoch 13/30\n",
            "1780/1780 - 0s - loss: 0.2391 - acc: 0.9674 - val_loss: 0.3126 - val_acc: 0.9281\n",
            "Epoch 14/30\n",
            "1780/1780 - 0s - loss: 0.2005 - acc: 0.9736 - val_loss: 0.2801 - val_acc: 0.9393\n",
            "Epoch 15/30\n",
            "1780/1780 - 0s - loss: 0.1716 - acc: 0.9758 - val_loss: 0.2609 - val_acc: 0.9393\n",
            "Epoch 16/30\n",
            "1780/1780 - 0s - loss: 0.1485 - acc: 0.9815 - val_loss: 0.2431 - val_acc: 0.9393\n",
            "Epoch 17/30\n",
            "1780/1780 - 0s - loss: 0.1296 - acc: 0.9809 - val_loss: 0.2304 - val_acc: 0.9393\n",
            "Epoch 18/30\n",
            "1780/1780 - 0s - loss: 0.1137 - acc: 0.9831 - val_loss: 0.2215 - val_acc: 0.9506\n",
            "Epoch 19/30\n",
            "1780/1780 - 0s - loss: 0.1005 - acc: 0.9871 - val_loss: 0.2134 - val_acc: 0.9483\n",
            "Epoch 20/30\n",
            "1780/1780 - 0s - loss: 0.0881 - acc: 0.9893 - val_loss: 0.2014 - val_acc: 0.9416\n",
            "Epoch 21/30\n",
            "1780/1780 - 0s - loss: 0.0795 - acc: 0.9899 - val_loss: 0.2000 - val_acc: 0.9461\n",
            "Epoch 22/30\n",
            "1780/1780 - 0s - loss: 0.0705 - acc: 0.9916 - val_loss: 0.1954 - val_acc: 0.9506\n",
            "Epoch 23/30\n",
            "1780/1780 - 0s - loss: 0.0626 - acc: 0.9961 - val_loss: 0.1934 - val_acc: 0.9461\n",
            "Epoch 24/30\n",
            "1780/1780 - 0s - loss: 0.0566 - acc: 0.9966 - val_loss: 0.1852 - val_acc: 0.9461\n",
            "Epoch 25/30\n",
            "1780/1780 - 0s - loss: 0.0506 - acc: 0.9978 - val_loss: 0.1855 - val_acc: 0.9483\n",
            "Epoch 26/30\n",
            "1780/1780 - 0s - loss: 0.0456 - acc: 0.9983 - val_loss: 0.1814 - val_acc: 0.9506\n",
            "Epoch 27/30\n",
            "1780/1780 - 0s - loss: 0.0410 - acc: 0.9983 - val_loss: 0.1799 - val_acc: 0.9461\n",
            "Epoch 28/30\n",
            "1780/1780 - 0s - loss: 0.0372 - acc: 0.9983 - val_loss: 0.1820 - val_acc: 0.9483\n",
            "Epoch 29/30\n",
            "1780/1780 - 0s - loss: 0.0336 - acc: 1.0000 - val_loss: 0.1786 - val_acc: 0.9438\n",
            "Epoch 30/30\n",
            "1780/1780 - 0s - loss: 0.0306 - acc: 1.0000 - val_loss: 0.1770 - val_acc: 0.9506\n"
          ],
          "name": "stdout"
        }
      ]
    },
    {
      "cell_type": "code",
      "metadata": {
        "id": "mA6YwFfRX-F7",
        "colab_type": "code",
        "outputId": "f85c3dba-6c73-4e00-c90b-65fe60524d80",
        "colab": {
          "base_uri": "https://localhost:8080/",
          "height": 541
        }
      },
      "source": [
        "import matplotlib.pyplot as plt\n",
        "\n",
        "\n",
        "def plot_graphs(history, string):\n",
        "  plt.plot(history.history[string])\n",
        "  plt.plot(history.history['val_'+string])\n",
        "  plt.xlabel(\"Epochs\")\n",
        "  plt.ylabel(string)\n",
        "  plt.legend([string, 'val_'+string])\n",
        "  plt.show()\n",
        "  \n",
        "plot_graphs(history, \"acc\")\n",
        "plot_graphs(history, \"loss\")"
      ],
      "execution_count": 17,
      "outputs": [
        {
          "output_type": "display_data",
          "data": {
            "image/png": "[encoded data removed]",
            "text/plain": [
              "<Figure size 432x288 with 1 Axes>"
            ]
          },
          "metadata": {
            "tags": []
          }
        },
        {
          "output_type": "display_data",
          "data": {
            "image/png": "[encoded data removed]",
            "text/plain": [
              "<Figure size 432x288 with 1 Axes>"
            ]
          },
          "metadata": {
            "tags": []
          }
        }
      ]
    },
    {
      "cell_type": "code",
      "metadata": {
        "id": "utH85oc2YN39",
        "colab_type": "code",
        "outputId": "9762e382-4fcd-412e-b118-caeaf479dd7b",
        "colab": {
          "base_uri": "https://localhost:8080/",
          "height": 34
        }
      },
      "source": [
        "test_sentence = [\"worldcom boss left books alone former worldcom boss bernie ebbers accused overseeing $11bn (£5.8bn) fraud never made accounting decisions witness told jurors. david myers made comments questioning defence lawyers arguing mr ebbers not responsible worldcom s problems. phone company collapsed 2002 prosecutors claim losses hidden protect firm s shares. mr myers already pleaded guilty fraud assisting prosecutors. monday defence lawyer reid weingarten tried distance client allegations. cross examination asked mr myers ever knew mr ebbers make accounting decision . not aware mr myers replied. ever know mr ebbers make accounting entry worldcom books mr weingarten pressed. no replied witness. mr myers admitted ordered false accounting entries request former worldcom chief financial officer scott sullivan. defence lawyers trying paint mr sullivan admitted fraud will testify later trial mastermind behind worldcom s accounting house cards. mr ebbers team meanwhile looking portray affable boss admission pe graduate economist. whatever abilities mr ebbers transformed worldcom relative unknown $160bn telecoms giant investor darling late 1990s. worldcom s problems mounted however competition increased telecoms boom petered out. firm finally collapsed shareholders lost $180bn 20 000 workers lost jobs. mr ebbers trial expected last two months found guilty former ceo faces substantial jail sentence. firmly declared innocence.\"]\n",
        "\n",
        "sequences = tokenizer.texts_to_sequences(test_sentence)\n",
        "padded = pad_sequences(sequences, maxlen=max_length, padding=padding_type, truncating=trunc_type)\n",
        "test_padded = np.array(padded)\n",
        "\n",
        "def get_index(list):\n",
        "  count = 0\n",
        "  for x in list:\n",
        "    if x == 1.:\n",
        "      break\n",
        "    count += 1\n",
        "  return count\n",
        "\n",
        "# Making the prediction\n",
        "key_list = list(label_word_index.keys()) \n",
        "val_list = list(label_word_index.values()) \n",
        "print(key_list[val_list.index(get_index(np.around(model.predict(padded))[0]))])"
      ],
      "execution_count": 18,
      "outputs": [
        {
          "output_type": "stream",
          "text": [
            "business\n"
          ],
          "name": "stdout"
        }
      ]
    },
    {
      "cell_type": "markdown",
      "metadata": {
        "id": "jyaBopwcUg_n",
        "colab_type": "text"
      },
      "source": [
        "Embedding files (vecs and meta)"
      ]
    },
    {
      "cell_type": "code",
      "metadata": {
        "id": "I3889PrWU5fG",
        "colab_type": "code",
        "outputId": "c27eabd6-30c0-4c0d-98dd-82e9258aa25a",
        "colab": {
          "base_uri": "https://localhost:8080/",
          "height": 34
        }
      },
      "source": [
        "e = model.layers[0]\n",
        "weights = e.get_weights()[0]\n",
        "print(weights.shape)"
      ],
      "execution_count": 20,
      "outputs": [
        {
          "output_type": "stream",
          "text": [
            "(1000, 16)\n"
          ],
          "name": "stdout"
        }
      ]
    },
    {
      "cell_type": "code",
      "metadata": {
        "id": "_k-S_hkuUmMa",
        "colab_type": "code",
        "colab": {}
      },
      "source": [
        "import io\n",
        "\n",
        "out_v = io.open('vecs.tsv', 'w', encoding='utf-8')\n",
        "out_m = io.open('meta.tsv', 'w', encoding='utf-8')\n",
        "for word_num in range(1, vocab_size):\n",
        "  word = reverse_word_index[word_num]\n",
        "  embeddings = weights[word_num]\n",
        "  out_m.write(word + \"\\n\")\n",
        "  out_v.write('\\t'.join([str(x) for x in embeddings]) + \"\\n\")\n",
        "out_v.close()\n",
        "out_m.close()"
      ],
      "execution_count": 0,
      "outputs": []
    },
    {
      "cell_type": "code",
      "metadata": {
        "id": "H3u8pVWOUoRO",
        "colab_type": "code",
        "colab": {}
      },
      "source": [
        "try:\n",
        "  from google.colab import files\n",
        "except ImportError:\n",
        "  pass\n",
        "else:\n",
        "  files.download('vecs.tsv')\n",
        "  files.download('meta.tsv')"
      ],
      "execution_count": 0,
      "outputs": []
    }
  ]
}